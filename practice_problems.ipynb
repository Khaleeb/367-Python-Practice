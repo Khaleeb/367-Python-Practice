{
 "cells": [
  {
   "cell_type": "markdown",
   "id": "genuine-portal",
   "metadata": {},
   "source": [
    "# **Practice Problems for CISC 367**\n",
    "#### *Caleb Davis*\n",
    "\n",
    "## Useful Links:\n",
    "- [Unit Testing](https://realpython.com/python-testing/)\n",
    "- [Lambas](https://realpython.com/python-lambda/)\n",
    "- [Tuples](https://realpython.com/python-lists-tuples/#python-tuples)\n",
    "- [Practice Problems](https://www.w3resource.com/python-exercises/tuple/)\n",
    "\n",
    "## **Using numpy:**"
   ]
  },
  {
   "cell_type": "code",
   "execution_count": 1,
   "id": "pursuant-carry",
   "metadata": {},
   "outputs": [],
   "source": [
    "import numpy as np"
   ]
  },
  {
   "cell_type": "code",
   "execution_count": 2,
   "id": "casual-segment",
   "metadata": {},
   "outputs": [],
   "source": [
    "# Create 2 new lists height and weight\n",
    "height = [1.87,  1.87, 1.82, 1.91, 1.90, 1.85]\n",
    "weight = [81.65, 97.52, 95.25, 92.98, 86.18, 88.45]\n",
    "\n",
    "# Import the numpy package as np\n",
    "import numpy as np\n",
    "\n",
    "# Create 2 numpy arrays from height and weight\n",
    "np_height = np.array(height)\n",
    "np_weight = np.array(weight)"
   ]
  },
  {
   "cell_type": "code",
   "execution_count": 4,
   "id": "moral-guyana",
   "metadata": {},
   "outputs": [
    {
     "name": "stdout",
     "output_type": "stream",
     "text": [
      "<class 'numpy.ndarray'>\n"
     ]
    }
   ],
   "source": [
    "print(type(np_height))"
   ]
  },
  {
   "cell_type": "markdown",
   "id": "varied-consultation",
   "metadata": {},
   "source": [
    "## **Using unittest:**\n",
    "\n",
    "#### Successful test:"
   ]
  },
  {
   "cell_type": "code",
   "execution_count": 7,
   "id": "round-louis",
   "metadata": {},
   "outputs": [
    {
     "name": "stderr",
     "output_type": "stream",
     "text": [
      ".\n",
      "----------------------------------------------------------------------\n",
      "Ran 1 test in 0.001s\n",
      "\n",
      "OK\n"
     ]
    }
   ],
   "source": [
    "import unittest\n",
    "\n",
    "from my_sum import sum\n",
    "\n",
    "class TestSum(unittest.TestCase):\n",
    "    def test_list_int(self):\n",
    "        data = [1,2,3]\n",
    "        result = sum(data)\n",
    "        self.assertEqual(result, 6)\n",
    "\n",
    "if __name__ == '__main__':\n",
    "    unittest.main(argv=['first-arg-is-ignored'], exit=False)"
   ]
  },
  {
   "cell_type": "markdown",
   "id": "billion-combine",
   "metadata": {},
   "source": [
    "#### Failing Test:"
   ]
  },
  {
   "cell_type": "code",
   "execution_count": 8,
   "id": "medium-electron",
   "metadata": {},
   "outputs": [
    {
     "name": "stderr",
     "output_type": "stream",
     "text": [
      "F\n",
      "======================================================================\n",
      "FAIL: test_list_int (__main__.TestSum)\n",
      "----------------------------------------------------------------------\n",
      "Traceback (most recent call last):\n",
      "  File \"<ipython-input-8-3ea5a83ab94b>\", line 9, in test_list_int\n",
      "    self.assertEqual(result, 5)\n",
      "AssertionError: 6 != 5\n",
      "\n",
      "----------------------------------------------------------------------\n",
      "Ran 1 test in 0.001s\n",
      "\n",
      "FAILED (failures=1)\n"
     ]
    }
   ],
   "source": [
    "import unittest\n",
    "\n",
    "from my_sum import sum\n",
    "\n",
    "class TestSum(unittest.TestCase):\n",
    "    def test_list_int(self):\n",
    "        data = [1,2,3]\n",
    "        result = sum(data)\n",
    "        self.assertEqual(result, 5)\n",
    "\n",
    "if __name__ == '__main__':\n",
    "    unittest.main(argv=['first-arg-is-ignored'], exit=False)"
   ]
  },
  {
   "cell_type": "markdown",
   "id": "military-textbook",
   "metadata": {},
   "source": [
    "## **Using Lambas:**"
   ]
  },
  {
   "cell_type": "code",
   "execution_count": 13,
   "id": "independent-multiple",
   "metadata": {
    "tags": []
   },
   "outputs": [],
   "source": [
    "func = lambda x: x+1"
   ]
  },
  {
   "cell_type": "markdown",
   "id": "impaired-holmes",
   "metadata": {},
   "source": [
    "* **The keyword:** lambda\n",
    "* **A bound variable:** x\n",
    "* **A body:** x + 1"
   ]
  },
  {
   "cell_type": "code",
   "execution_count": 6,
   "id": "reflected-california",
   "metadata": {},
   "outputs": [
    {
     "data": {
      "text/plain": [
       "4"
      ]
     },
     "execution_count": 6,
     "metadata": {},
     "output_type": "execute_result"
    }
   ],
   "source": [
    "func(3)"
   ]
  },
  {
   "cell_type": "code",
   "execution_count": 7,
   "id": "virtual-hungary",
   "metadata": {},
   "outputs": [
    {
     "data": {
      "text/plain": [
       "'Full name: Caleb Davis'"
      ]
     },
     "execution_count": 7,
     "metadata": {},
     "output_type": "execute_result"
    }
   ],
   "source": [
    "full_name = lambda first, last: f'Full name: {first.title()} {last.title()}'\n",
    "full_name(\"Caleb\", \"Davis\")"
   ]
  },
  {
   "cell_type": "code",
   "execution_count": 9,
   "id": "grateful-things",
   "metadata": {},
   "outputs": [
    {
     "data": {
      "text/plain": [
       "3"
      ]
     },
     "execution_count": 9,
     "metadata": {},
     "output_type": "execute_result"
    }
   ],
   "source": [
    "sum = lambda x, y: x + y\n",
    "sum(1,2)"
   ]
  },
  {
   "cell_type": "code",
   "execution_count": 12,
   "id": "varied-steam",
   "metadata": {},
   "outputs": [
    {
     "data": {
      "text/plain": [
       "6"
      ]
     },
     "execution_count": 12,
     "metadata": {},
     "output_type": "execute_result"
    }
   ],
   "source": [
    "high_ord_func = lambda x, func: x + func(x)\n",
    "high_ord_func(2, lambda x: x * x)"
   ]
  },
  {
   "cell_type": "code",
   "execution_count": 14,
   "id": "healthy-adelaide",
   "metadata": {},
   "outputs": [
    {
     "data": {
      "text/plain": [
       "7"
      ]
     },
     "execution_count": 14,
     "metadata": {},
     "output_type": "execute_result"
    }
   ],
   "source": [
    "high_ord_func(2, lambda x: x + 3)"
   ]
  },
  {
   "cell_type": "markdown",
   "id": "existing-nightmare",
   "metadata": {},
   "source": [
    "#### NO STATEMENTS:"
   ]
  },
  {
   "cell_type": "code",
   "execution_count": 19,
   "id": "prostate-ireland",
   "metadata": {},
   "outputs": [
    {
     "ename": "SyntaxError",
     "evalue": "invalid syntax (<ipython-input-19-8873a9b1d88c>, line 1)",
     "output_type": "error",
     "traceback": [
      "\u001b[0;36m  File \u001b[0;32m\"<ipython-input-19-8873a9b1d88c>\"\u001b[0;36m, line \u001b[0;32m1\u001b[0m\n\u001b[0;31m    (lambda x: assert x == 2)(2)\u001b[0m\n\u001b[0m               ^\u001b[0m\n\u001b[0;31mSyntaxError\u001b[0m\u001b[0;31m:\u001b[0m invalid syntax\n"
     ]
    }
   ],
   "source": [
    "(lambda x: assert x == 2)(2)"
   ]
  },
  {
   "cell_type": "markdown",
   "id": "comparable-enterprise",
   "metadata": {},
   "source": [
    "#### Passing arguments to lambda:"
   ]
  },
  {
   "cell_type": "code",
   "execution_count": 21,
   "id": "intelligent-orange",
   "metadata": {},
   "outputs": [
    {
     "data": {
      "text/plain": [
       "6"
      ]
     },
     "execution_count": 21,
     "metadata": {},
     "output_type": "execute_result"
    }
   ],
   "source": [
    "def sum(ls):\n",
    "    s = 0\n",
    "    for i in ls:\n",
    "        s += i\n",
    "    return s\n",
    "\n",
    "(lambda *args: sum(args))(1,2,3)"
   ]
  },
  {
   "cell_type": "code",
   "execution_count": 22,
   "id": "useful-minutes",
   "metadata": {},
   "outputs": [
    {
     "data": {
      "text/plain": [
       "6"
      ]
     },
     "execution_count": 22,
     "metadata": {},
     "output_type": "execute_result"
    }
   ],
   "source": [
    "(lambda **kwargs: sum(kwargs.values()))(one=1, two=2, three=3)"
   ]
  },
  {
   "cell_type": "markdown",
   "id": "focal-republican",
   "metadata": {},
   "source": [
    "#### Decorators with lambda:"
   ]
  },
  {
   "cell_type": "code",
   "execution_count": 23,
   "id": "narrative-ceramic",
   "metadata": {},
   "outputs": [
    {
     "name": "stdout",
     "output_type": "stream",
     "text": [
      "[TRACE] func: add_two, args: (3,), kwargs: {}\n",
      "[TRACE] func: <lambda>, args: (3,), kwargs: {}\n",
      "9\n"
     ]
    }
   ],
   "source": [
    "# Defining a decorator\n",
    "def trace(f):\n",
    "    def wrap(*args, **kwargs):\n",
    "        print(f\"[TRACE] func: {f.__name__}, args: {args}, kwargs: {kwargs}\")\n",
    "        return f(*args, **kwargs)\n",
    "\n",
    "    return wrap\n",
    "\n",
    "# Applying decorator to a function\n",
    "@trace\n",
    "def add_two(x):\n",
    "    return x + 2\n",
    "\n",
    "# Calling the decorated function\n",
    "add_two(3)\n",
    "\n",
    "# Applying decorator to a lambda\n",
    "print((trace(lambda x: x ** 2))(3))"
   ]
  },
  {
   "cell_type": "markdown",
   "id": "healthy-rebound",
   "metadata": {},
   "source": [
    "## **Using Tuples:**\n",
    "* Defined with ()\n",
    "* tuples are **immutable**"
   ]
  },
  {
   "cell_type": "code",
   "execution_count": 1,
   "id": "naked-virtue",
   "metadata": {},
   "outputs": [
    {
     "data": {
      "text/plain": [
       "('foo', 'bar', 'baz', 'qux', 'quux', 'corge')"
      ]
     },
     "execution_count": 1,
     "metadata": {},
     "output_type": "execute_result"
    }
   ],
   "source": [
    "t = ('foo', 'bar', 'baz', 'qux', 'quux', 'corge')\n",
    "t"
   ]
  },
  {
   "cell_type": "code",
   "execution_count": 2,
   "id": "thirty-plumbing",
   "metadata": {},
   "outputs": [
    {
     "data": {
      "text/plain": [
       "'foo'"
      ]
     },
     "execution_count": 2,
     "metadata": {},
     "output_type": "execute_result"
    }
   ],
   "source": [
    "t[0]"
   ]
  },
  {
   "cell_type": "code",
   "execution_count": 3,
   "id": "environmental-qualification",
   "metadata": {},
   "outputs": [
    {
     "data": {
      "text/plain": [
       "'corge'"
      ]
     },
     "execution_count": 3,
     "metadata": {},
     "output_type": "execute_result"
    }
   ],
   "source": [
    "t[-1]"
   ]
  },
  {
   "cell_type": "code",
   "execution_count": 5,
   "id": "facial-imagination",
   "metadata": {},
   "outputs": [
    {
     "data": {
      "text/plain": [
       "('bar', 'qux', 'corge')"
      ]
     },
     "execution_count": 5,
     "metadata": {},
     "output_type": "execute_result"
    }
   ],
   "source": [
    "t[1::2]"
   ]
  },
  {
   "cell_type": "code",
   "execution_count": 6,
   "id": "korean-deployment",
   "metadata": {},
   "outputs": [
    {
     "data": {
      "text/plain": [
       "('corge', 'quux', 'qux', 'baz', 'bar', 'foo')"
      ]
     },
     "execution_count": 6,
     "metadata": {},
     "output_type": "execute_result"
    }
   ],
   "source": [
    "t[::-1]"
   ]
  },
  {
   "cell_type": "code",
   "execution_count": 8,
   "id": "alpine-martin",
   "metadata": {},
   "outputs": [
    {
     "ename": "TypeError",
     "evalue": "'tuple' object does not support item assignment",
     "output_type": "error",
     "traceback": [
      "\u001b[0;31m---------------------------------------------------------------------------\u001b[0m",
      "\u001b[0;31mTypeError\u001b[0m                                 Traceback (most recent call last)",
      "\u001b[0;32m<ipython-input-8-8f48df53cffc>\u001b[0m in \u001b[0;36m<module>\u001b[0;34m\u001b[0m\n\u001b[0;32m----> 1\u001b[0;31m \u001b[0mt\u001b[0m\u001b[0;34m[\u001b[0m\u001b[0;36m2\u001b[0m\u001b[0;34m]\u001b[0m \u001b[0;34m=\u001b[0m \u001b[0;34m\"Barl!\"\u001b[0m\u001b[0;34m\u001b[0m\u001b[0;34m\u001b[0m\u001b[0m\n\u001b[0m",
      "\u001b[0;31mTypeError\u001b[0m: 'tuple' object does not support item assignment"
     ]
    }
   ],
   "source": [
    "t[2] = \"Barl!\""
   ]
  },
  {
   "cell_type": "code",
   "execution_count": 12,
   "id": "secret-witch",
   "metadata": {},
   "outputs": [
    {
     "data": {
      "text/plain": [
       "int"
      ]
     },
     "execution_count": 12,
     "metadata": {},
     "output_type": "execute_result"
    }
   ],
   "source": [
    "t = (2)\n",
    "type(t)"
   ]
  },
  {
   "cell_type": "code",
   "execution_count": 13,
   "id": "armed-contents",
   "metadata": {},
   "outputs": [
    {
     "data": {
      "text/plain": [
       "tuple"
      ]
     },
     "execution_count": 13,
     "metadata": {},
     "output_type": "execute_result"
    }
   ],
   "source": [
    "t = (2,)\n",
    "type(t)"
   ]
  },
  {
   "cell_type": "code",
   "execution_count": 14,
   "id": "worse-suffering",
   "metadata": {},
   "outputs": [
    {
     "data": {
      "text/plain": [
       "'foo'"
      ]
     },
     "execution_count": 14,
     "metadata": {},
     "output_type": "execute_result"
    }
   ],
   "source": [
    "t = ('foo', 'bar', 'baz', 'qux')\n",
    "(s1, s2, s3, s4) = t\n",
    "s1"
   ]
  }
 ],
 "metadata": {
  "kernelspec": {
   "display_name": "Python 3",
   "language": "python",
   "name": "python3"
  },
  "language_info": {
   "codemirror_mode": {
    "name": "ipython",
    "version": 3
   },
   "file_extension": ".py",
   "mimetype": "text/x-python",
   "name": "python",
   "nbconvert_exporter": "python",
   "pygments_lexer": "ipython3",
   "version": "3.9.1"
  }
 },
 "nbformat": 4,
 "nbformat_minor": 5
}
